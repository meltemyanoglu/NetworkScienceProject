{
  "nbformat": 4,
  "nbformat_minor": 0,
  "metadata": {
    "colab": {
      "provenance": [],
      "toc_visible": true,
      "authorship_tag": "ABX9TyOQC35W/OqH/67fH5LY29Bc",
      "include_colab_link": true
    },
    "kernelspec": {
      "name": "python3",
      "display_name": "Python 3"
    },
    "language_info": {
      "name": "python"
    }
  },
  "cells": [
    {
      "cell_type": "markdown",
      "metadata": {
        "id": "view-in-github",
        "colab_type": "text"
      },
      "source": [
        "<a href=\"https://colab.research.google.com/github/meltemyanoglu/NetworkScienceProject/blob/main/geomap_tweets.ipynb\" target=\"_parent\"><img src=\"https://colab.research.google.com/assets/colab-badge.svg\" alt=\"Open In Colab\"/></a>"
      ]
    },
    {
      "cell_type": "code",
      "execution_count": null,
      "metadata": {
        "colab": {
          "base_uri": "https://localhost:8080/"
        },
        "id": "q-B36yzAqbvX",
        "outputId": "33437d87-2867-42da-bb55-49926154cd51"
      },
      "outputs": [
        {
          "output_type": "stream",
          "name": "stdout",
          "text": [
            "0\n"
          ]
        }
      ],
      "source": [
        "import tweepy\n",
        "def get_twitter_api():\n",
        "    # personal details\n",
        "    consumer_key = \"YYahfZQFbkrFJqrikIXV3ufNy\"\n",
        "    consumer_secret = \"aMGJU0pxNO3fTbVNaNqZVuTpdR8PlkPhSo5jBc4heoVCVv7YvI\"\n",
        "    access_token = '2402818588-NP6uBFOQScSlkPcVO9IgOLdDNjHarQdU5vj4Za2'\n",
        "    access_token_secret = 'A5ZOoxGWal6WVUpoVGM0GoPZOqaDEXyFVTQ8IYbVPWghb' \n",
        "    # authentication of consumer key and secret\n",
        "    auth = tweepy.OAuthHandler(consumer_key, consumer_secret)\n",
        "    # authentication of access token and secret\n",
        "    auth.set_access_token(access_token, access_token_secret)\n",
        "    api = tweepy.API(auth, wait_on_rate_limit=True, wait_on_rate_limit_notify=True)\n",
        "    return api\n",
        "def get_twitter_location(search):\n",
        "    api = get_twitter_api()\n",
        "    count = 0\n",
        "    for tweet in tweepy.Cursor(api.search, q=search).items(500):\n",
        "        if hasattr(tweet, 'coordinates') and tweet.coordinates is not None:\n",
        "            count += 1\n",
        "            print(\"Coordinates\", tweet.coordinates)\n",
        "        if hasattr(tweet, 'location') and tweet.location is not None:\n",
        "            count += 1\n",
        "            print(\"Coordinates\", tweet.location)\n",
        "    print(count)\n",
        "get_twitter_location('(#colourbias OR #genderbias OR #sexism OR #sexismincolors OR #sexismincolours OR #pinkforgirls OR #blueforboys OR #genderstereotype OR #colorpreferences OR #colouremotions) (#red OR #orange OR #yellow OR #green OR #purple OR #grey OR #brown OR #white OR #pink OR #blue)')"
      ]
    },
    {
      "cell_type": "code",
      "source": [
        "def get_tweets(search):\n",
        "    api = get_twitter_api()\n",
        "    location_data = []\n",
        "    for tweet in tweepy.Cursor(api.search, q=search).items(500):\n",
        "        if hasattr(tweet, 'user') and hasattr(tweet.user, 'screen_name') and hasattr(tweet.user, 'location'):\n",
        "            if tweet.user.location:\n",
        "                location_data.append((tweet.user.screen_name, tweet.user.location))\n",
        "    return location_data"
      ],
      "metadata": {
        "id": "NDSCVoClrWvT"
      },
      "execution_count": null,
      "outputs": []
    },
    {
      "cell_type": "code",
      "source": [
        "!pip install folium"
      ],
      "metadata": {
        "colab": {
          "base_uri": "https://localhost:8080/"
        },
        "id": "Sj-Oz8slrhmw",
        "outputId": "5024cdfb-388e-4e07-863b-e4630fe54095"
      },
      "execution_count": null,
      "outputs": [
        {
          "output_type": "stream",
          "name": "stdout",
          "text": [
            "Looking in indexes: https://pypi.org/simple, https://us-python.pkg.dev/colab-wheels/public/simple/\n",
            "Requirement already satisfied: folium in /usr/local/lib/python3.8/dist-packages (0.12.1.post1)\n",
            "Requirement already satisfied: branca>=0.3.0 in /usr/local/lib/python3.8/dist-packages (from folium) (0.6.0)\n",
            "Requirement already satisfied: requests in /usr/local/lib/python3.8/dist-packages (from folium) (2.25.1)\n",
            "Requirement already satisfied: jinja2>=2.9 in /usr/local/lib/python3.8/dist-packages (from folium) (2.11.3)\n",
            "Requirement already satisfied: numpy in /usr/local/lib/python3.8/dist-packages (from folium) (1.21.6)\n",
            "Requirement already satisfied: MarkupSafe>=0.23 in /usr/local/lib/python3.8/dist-packages (from jinja2>=2.9->folium) (2.0.1)\n",
            "Requirement already satisfied: idna<3,>=2.5 in /usr/local/lib/python3.8/dist-packages (from requests->folium) (2.10)\n",
            "Requirement already satisfied: chardet<5,>=3.0.2 in /usr/local/lib/python3.8/dist-packages (from requests->folium) (4.0.0)\n",
            "Requirement already satisfied: certifi>=2017.4.17 in /usr/local/lib/python3.8/dist-packages (from requests->folium) (2022.12.7)\n",
            "Requirement already satisfied: urllib3<1.27,>=1.21.1 in /usr/local/lib/python3.8/dist-packages (from requests->folium) (1.24.3)\n"
          ]
        }
      ]
    },
    {
      "cell_type": "code",
      "source": [
        "!pip install geopy"
      ],
      "metadata": {
        "colab": {
          "base_uri": "https://localhost:8080/"
        },
        "id": "_L4ZSUw-rlq4",
        "outputId": "6625ee9d-19f1-4e03-d127-0b60abfd43c2"
      },
      "execution_count": null,
      "outputs": [
        {
          "output_type": "stream",
          "name": "stdout",
          "text": [
            "Looking in indexes: https://pypi.org/simple, https://us-python.pkg.dev/colab-wheels/public/simple/\n",
            "Requirement already satisfied: geopy in /usr/local/lib/python3.8/dist-packages (1.17.0)\n",
            "Requirement already satisfied: geographiclib<2,>=1.49 in /usr/local/lib/python3.8/dist-packages (from geopy) (1.52)\n"
          ]
        }
      ]
    },
    {
      "cell_type": "code",
      "source": [
        "import folium\n",
        "from geopy.exc import GeocoderTimedOut\n",
        "from geopy.geocoders import Nominatim\n",
        "\n",
        "def put_markers(map, data):\n",
        "    geo_locator = Nominatim(user_agent=\"LearnPython\")\n",
        "    for (name, location) in data:\n",
        "        if location:\n",
        "            try:\n",
        "                location = geo_locator.geocode(location)\n",
        "            except GeocoderTimedOut:\n",
        "                continue\n",
        "            if location:\n",
        "                folium.Marker([location.latitude, location.longitude], popup=name).add_to(map)\n",
        "\n",
        "if __name__ == \"__main__\":\n",
        "    map = folium.Map(location=[0, 0], zoom_start=2)\n",
        "    location_data = get_tweets('#sexism')\n",
        "    put_markers(map, location_data)\n",
        "    map.save(\"index.html\")"
      ],
      "metadata": {
        "id": "rYEQCjO7rq3r"
      },
      "execution_count": null,
      "outputs": []
    }
  ]
}